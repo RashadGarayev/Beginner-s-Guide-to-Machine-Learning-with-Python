{
 "cells": [
  {
   "cell_type": "markdown",
   "metadata": {},
   "source": [
    "# Regression (Reqressiya)"
   ]
  },
  {
   "cell_type": "markdown",
   "metadata": {},
   "source": [
    "<strong>Reqressiya analizi</strong> — bir və ya bir neçə asılı olmayan dəyişənin digər asılı dəyişənə təsirinin statistik analiz üsulu. Məqsədi bir asılı olan, və bir və ya bir neçə asılı olmayan dəyişənlər arasındakı münasibəti araşdırmaqdır. Burada asılı dəyişənlərin sistematik təsiri nəticəsində asılı olmayan dəyişənlərin özlərini aparmasını izah etmək və onları təsadüfi təsirlərdən ayırd etmək əsas məsələlərdəndir.\n",
    "Asılı olmayan dəyişənlərə reqressorlar və ya prediktorlar, asılı olan dəyişənlər isə kriterial dəyişənlər adlanır. Tədqiqatda yalnız riyazi asılılıq nəzərdə tutulur.\n",
    "Araşdırılan prosesə misal kimi mexaniki emalda kəsmə qüvvəsinin dəyişməsi (asılı olan dəyişən) ilə prosesin gedişini müəyyənləşdirən kəsmə parametrləri (asılı olmayan dəyişən) arasındakı asılılığın təyinini göstərmək olar."
   ]
  },
  {
   "cell_type": "markdown",
   "metadata": {},
   "source": [
    "https://az.wikipedia.org/wiki/Reqressiya_analizi"
   ]
  },
  {
   "cell_type": "markdown",
   "metadata": {},
   "source": [
    "Reqressiya təhlili, asılı (hədəf) və müstəqil dəyişən(lər)(proqnozçu) arasındakı əlaqəni araşdıran proqnozlaşdırıcı modelləşdirmə texnikasının bir formasıdır"
   ]
  },
  {
   "cell_type": "markdown",
   "metadata": {},
   "source": [
    "Məsələn,sürət həddini aşmaq-tələsik sürmə ilə bir sürücü tərəfindən yol qəzalarının sayı arasındakı münasibət reqressiya yolu ilə yaxşı öyrənmək olar."
   ]
  },
  {
   "cell_type": "markdown",
   "metadata": {},
   "source": [
    "Reqressiya təhlili məlumatların modelləşdirilməsi və təhlili üçün vacib bir vasitədir.əyri və ya xətdən məlumat nöqtələrinin məsafələri arasındakı fərqlərin minimuma endiriləcəyi şəkildə bir nöqtəni digər nöqtəyə uyğunlaşdırırıq."
   ]
  },
  {
   "cell_type": "markdown",
   "metadata": {},
   "source": [
    "<strong>Reqressiya analizi niyə istifadə edirik!</strong>"
   ]
  },
  {
   "cell_type": "markdown",
   "metadata": {},
   "source": [
    "Yuxarıda qeyd edildiyi kimi, reqressiya təhlili iki və ya daha çox dəyişən arasındakı əlaqəni qiymətləndirir. Bunu asan bir nümunə ilə başa düşək:"
   ]
  },
  {
   "cell_type": "markdown",
   "metadata": {},
   "source": [
    "Deyək ki, bir şirkətin satışındakı artımı hazırkı iqtisadi şərtlərə əsasən qiymətləndirmək istəyirsən. Son satış məlumatlarınız var ki, bu da satışdakı artımın iqtisadiyyatdakı iki yarım qat artımından bəhs edir. Bu anlayışdan istifadə edərək cari və keçmiş məlumatlara əsaslanaraq şirkətin gələcək satışlarını proqnozlaşdıra bilərik."
   ]
  },
  {
   "cell_type": "markdown",
   "metadata": {},
   "source": [
    "Reqressiya analizini istifadə etməyin bir çox faydası var: Asılı dəyişən və müstəqil dəyişən arasındakı əhəmiyyətli əlaqələri göstərir.\n",
    "Çox müstəqil dəyişənlərin asılı bir dəyişənə təsirinin gücünü göstərir.\n",
    "Reqressiya təhlili bizə qiymət dəyişmələrinin təsiri və tanıtım fəaliyyətlərinin sayı kimi fərqli tərəzilərdə ölçülən dəyişənlərin təsirlərini müqayisə etməyə imkan verir. Bu faydalar bazar tədqiqatçılarına məlumat analitiklərinə məlumat alimlərinə proqnozlaşdırılan modellərin qurulması üçün istifadə ediləcək ən yaxşı dəyişən dəsti aradan qaldırmağa və qiymətləndirməyə kömək edir."
   ]
  },
  {
   "cell_type": "code",
   "execution_count": null,
   "metadata": {},
   "outputs": [],
   "source": []
  }
 ],
 "metadata": {
  "kernelspec": {
   "display_name": "Python 3",
   "language": "python",
   "name": "python3"
  },
  "language_info": {
   "codemirror_mode": {
    "name": "ipython",
    "version": 3
   },
   "file_extension": ".py",
   "mimetype": "text/x-python",
   "name": "python",
   "nbconvert_exporter": "python",
   "pygments_lexer": "ipython3",
   "version": "3.7.6"
  }
 },
 "nbformat": 4,
 "nbformat_minor": 4
}
